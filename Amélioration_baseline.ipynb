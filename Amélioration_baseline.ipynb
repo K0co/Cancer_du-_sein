{
 "cells": [
  {
   "cell_type": "code",
   "execution_count": 1,
   "metadata": {},
   "outputs": [],
   "source": [
    "##### Pandas est une librarie python permettant de manipuler des données. Cette librairie est complétée par matplotlib \n",
    "#pour \"les\" représentations graphiques\n",
    "from math import floor\n",
    "import pandas as pd\n",
    "import matplotlib.pyplot as plt\n",
    "from sklearn.linear_model import LogisticRegression # importe la méthode logistic regression\n",
    "from sklearn.model_selection import train_test_split # Fonction permettant de séparer les données en deux (tests et train)\n",
    "from sklearn.metrics import r2_score #Méthode permettant d'évaluer la justesse du modèle\n",
    "from sklearn.preprocessing import LabelEncoder # Permet de transformer les M et les B en nombres entiers\n",
    "emplacement = r'C:\\Users\\HP\\Cancer_du_sein\\dataSet.csv'\n",
    "dataframe = pd.read_csv(emplacement) #Commande permettant de lire le fichier de la variable emplacement"
   ]
  },
  {
   "cell_type": "code",
   "execution_count": null,
   "metadata": {},
   "outputs": [],
   "source": [
    "dataframe = dataframe.drop([dataframe.columns[-1]], axis=1)# Retire la dernière colonne de la dataframe \n",
    "dataframe.isnull().sum() #Regarde le nombre d'éléments n'ayant pas de valeurs dans chaque colonne\n",
    "dataframe['diagnosis'].unique()#Renvoie une fois les valeurs présentes dans la colonne diagnosis\n",
    "le = LabelEncoder() \n",
    "le.fit(['M', 'B'])\n",
    "dataframe['Label_diagnosis'] = le.transform(dataframe['diagnosis']) #Nouvelle colonne étant la colonne diagnosis avec des int"
   ]
  }
 ],
 "metadata": {
  "kernelspec": {
   "display_name": "Python 3",
   "language": "python",
   "name": "python3"
  },
  "language_info": {
   "codemirror_mode": {
    "name": "ipython",
    "version": 3
   },
   "file_extension": ".py",
   "mimetype": "text/x-python",
   "name": "python",
   "nbconvert_exporter": "python",
   "pygments_lexer": "ipython3",
   "version": "3.6.5"
  }
 },
 "nbformat": 4,
 "nbformat_minor": 2
}
