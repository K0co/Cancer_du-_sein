{
 "cells": [
  {
   "cell_type": "code",
   "execution_count": null,
   "metadata": {
    "scrolled": true
   },
   "outputs": [],
   "source": [
    "# Pandas est une librarie python permettant de manipuler des données. Cette librairie est complétée par matplotlib \n",
    "#pour les représentations graphiques\n",
    "\n",
    "import pandas as pd\n",
    "import matplotlib.pyplot as plt\n",
    "from sklearn.linear_model import LogisticRegression # importe la méthode logistic regression\n",
    "emplacement = r'C:\\Users\\HP\\Cancer_du_sein\\dataSet.csv'\n",
    "dataframe = pd.read_csv(emplacement) #Commande permettant de lire le fichier de la variable emplacement"
   ]
  },
  {
   "cell_type": "code",
   "execution_count": null,
   "metadata": {},
   "outputs": [],
   "source": [
    "dataset=dataframe.sort_values(by=\"diagnosis\") #Trie les données selon leur diagnostique\n",
    "Bdataframe = dataset[0:357] # Matrice Benin\n",
    "Mdataframe = dataset[357:] # Matrice Maligne\n",
    "Bdataframe.shape()\n",
    "Mdataframe.shape()\n",
    "Mdataframe = Mdataframe.dropna()\n",
    "Bdataframe = Bdataframe.dropna()\n",
    "Bdataframe.shape()\n",
    "Mdataframe.shape()\n"
   ]
  },
  {
   "cell_type": "code",
   "execution_count": null,
   "metadata": {},
   "outputs": [],
   "source": []
  },
  {
   "cell_type": "code",
   "execution_count": null,
   "metadata": {},
   "outputs": [],
   "source": []
  }
 ],
 "metadata": {
  "kernelspec": {
   "display_name": "Python 3",
   "language": "python",
   "name": "python3"
  },
  "language_info": {
   "codemirror_mode": {
    "name": "ipython",
    "version": 3
   },
   "file_extension": ".py",
   "mimetype": "text/x-python",
   "name": "python",
   "nbconvert_exporter": "python",
   "pygments_lexer": "ipython3",
   "version": "3.6.5"
  }
 },
 "nbformat": 4,
 "nbformat_minor": 2
}
