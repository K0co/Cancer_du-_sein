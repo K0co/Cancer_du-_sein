{
 "cells": [
  {
   "cell_type": "code",
   "execution_count": 2,
   "metadata": {},
   "outputs": [],
   "source": [
    "\"\"\"Le modèle SVM (Support vector machines) est une méthode de classification déterminant un hyperplan optimal\n",
    "\"\"\"\n",
    "from math import floor\n",
    "import pandas as pd\n",
    "import matplotlib.pyplot as plt\n",
    "from sklearn import svm # importe le module SVM de sci kit learn\n",
    "from sklearn.model_selection import train_test_split # Fonction permettant de séparer les données en deux (tests et train)\n",
    "from sklearn.metrics import r2_score #Méthode permettant d'évaluer la justesse du modèle\n",
    "from sklearn.preprocessing import LabelEncoder # Permet de transformer les M et les B en nombres entiers\n",
    "emplacement = r'C:\\Users\\HP\\Cancer_du_sein\\dataSet.csv'\n",
    "dataframe = pd.read_csv(emplacement) #Commande permettant de lire le fichier de la variable emplacement"
   ]
  },
  {
   "cell_type": "code",
   "execution_count": 3,
   "metadata": {},
   "outputs": [],
   "source": [
    "dataframe = dataframe.drop([dataframe.columns[-1]], axis=1)# Retire la dernière colonne de la dataframe \n",
    "dataframe.isnull().sum() #Regarde le nombre d'éléments n'ayant pas de valeurs dans chaque colonne\n",
    "dataframe['diagnosis'].unique()#Renvoie une fois les valeurs présentes dans la colonne diagnosis\n",
    "le = LabelEncoder() \n",
    "le.fit(['M', 'B'])\n",
    "dataframe['Label_diagnosis'] = le.transform(dataframe['diagnosis']) #Nouvelle colonne étant la colonne diagnosis avec des int\n",
    "X=dataframe[['radius_mean','texture_mean', 'perimeter_mean',\n",
    "       'area_mean', 'smoothness_mean', 'compactness_mean', 'concavity_mean',\n",
    "       'concave points_mean', 'symmetry_mean', 'fractal_dimension_mean',\n",
    "       'radius_se', 'texture_se', 'perimeter_se', 'area_se', 'smoothness_se',\n",
    "       'compactness_se', 'concavity_se', 'concave points_se', 'symmetry_se',\n",
    "       'fractal_dimension_se', 'radius_worst', 'texture_worst',\n",
    "       'perimeter_worst', 'area_worst', 'smoothness_worst',\n",
    "       'compactness_worst', 'concavity_worst', 'concave points_worst',\n",
    "       'symmetry_worst', 'fractal_dimension_worst',]].values\n",
    "Y= dataframe['Label_diagnosis'].values #Fait un numpy à partir des valeurs de Label_diagnosis\n",
    "X_train, X_test, Y_train, Y_test = train_test_split(X,Y)"
   ]
  },
  {
   "cell_type": "code",
   "execution_count": null,
   "metadata": {},
   "outputs": [],
   "source": [
    "clf = svm.SVC(kernel='linear') # Linear Kernel\n",
    "clf.fit(X_train, Y_train)\n",
    "Y_pred = clf.predict(X_test)\n",
    "results=confusion_matrix(Y_test,Y_pred)\n",
    "results"
   ]
  }
 ],
 "metadata": {
  "kernelspec": {
   "display_name": "Python 3",
   "language": "python",
   "name": "python3"
  },
  "language_info": {
   "codemirror_mode": {
    "name": "ipython",
    "version": 3
   },
   "file_extension": ".py",
   "mimetype": "text/x-python",
   "name": "python",
   "nbconvert_exporter": "python",
   "pygments_lexer": "ipython3",
   "version": "3.6.5"
  }
 },
 "nbformat": 4,
 "nbformat_minor": 2
}
